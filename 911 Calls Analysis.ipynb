{
 "cells": [
  {
   "cell_type": "code",
   "execution_count": 41,
   "id": "d4f855e1",
   "metadata": {},
   "outputs": [],
   "source": [
    "import numpy as np\n",
    "import pandas as pd\n",
    "import matplotlib.pyplot as plt\n",
    "import seaborn as sns\n",
    "import string"
   ]
  },
  {
   "cell_type": "code",
   "execution_count": 68,
   "id": "ce396fce",
   "metadata": {},
   "outputs": [],
   "source": [
    "df = pd.read_csv(\"911.csv\")"
   ]
  },
  {
   "cell_type": "code",
   "execution_count": null,
   "id": "b938b914",
   "metadata": {},
   "outputs": [],
   "source": [
    "df.head()"
   ]
  },
  {
   "cell_type": "code",
   "execution_count": 70,
   "id": "2558e40f",
   "metadata": {},
   "outputs": [
    {
     "data": {
      "text/plain": [
       "(663522, 9)"
      ]
     },
     "execution_count": 70,
     "metadata": {},
     "output_type": "execute_result"
    }
   ],
   "source": [
    "df.shape"
   ]
  },
  {
   "cell_type": "code",
   "execution_count": null,
   "id": "1c9e076f",
   "metadata": {},
   "outputs": [],
   "source": [
    "df.info()"
   ]
  },
  {
   "cell_type": "code",
   "execution_count": null,
   "id": "9e9f23c2",
   "metadata": {},
   "outputs": [],
   "source": [
    "df.isnull().sum()"
   ]
  },
  {
   "cell_type": "code",
   "execution_count": null,
   "id": "acbcb7f6",
   "metadata": {},
   "outputs": [],
   "source": [
    "def title_sub(text):\n",
    "    text = text.split(\":\")[1]\n",
    "    return text\n",
    "    \n",
    "def title_main(text):\n",
    "    text = text.split(\":\")[0]\n",
    "    return text"
   ]
  },
  {
   "cell_type": "code",
   "execution_count": 74,
   "id": "5faa9abb",
   "metadata": {},
   "outputs": [],
   "source": [
    "df[\"subtitle\"] = df[\"title\"].apply(title_sub)\n",
    "df[\"title\"] = df[\"title\"].apply(title_main)"
   ]
  },
  {
   "cell_type": "code",
   "execution_count": null,
   "id": "fe236592",
   "metadata": {},
   "outputs": [],
   "source": [
    "df.head()"
   ]
  },
  {
   "cell_type": "code",
   "execution_count": null,
   "id": "baafea9f",
   "metadata": {},
   "outputs": [],
   "source": [
    "sns.countplot(x=\"title\", data=df)"
   ]
  },
  {
   "cell_type": "code",
   "execution_count": 77,
   "id": "deb93628",
   "metadata": {},
   "outputs": [
    {
     "data": {
      "text/plain": [
       "title\n",
       "EMS        332692\n",
       "Traffic    230208\n",
       "Fire       100622\n",
       "Name: count, dtype: int64"
      ]
     },
     "execution_count": 77,
     "metadata": {},
     "output_type": "execute_result"
    }
   ],
   "source": [
    "df[\"title\"].value_counts()"
   ]
  },
  {
   "cell_type": "code",
   "execution_count": 78,
   "id": "8b11a7d0",
   "metadata": {},
   "outputs": [],
   "source": [
    "df['timeStamp'] = pd.to_datetime(df['timeStamp'])\n",
    "df['Hour'] = df['timeStamp'].apply(lambda time: time.hour)\n",
    "df['Month'] = df['timeStamp'].apply(lambda time: time.month)\n",
    "df['Year'] = df['timeStamp'].apply(lambda time: time.year)\n",
    "df['Day of Week'] = df['timeStamp'].apply(lambda time: time.dayofweek)"
   ]
  },
  {
   "cell_type": "code",
   "execution_count": null,
   "id": "b3959b1e",
   "metadata": {},
   "outputs": [],
   "source": [
    "df.head()"
   ]
  },
  {
   "cell_type": "code",
   "execution_count": 80,
   "id": "b00bcede",
   "metadata": {},
   "outputs": [
    {
     "data": {
      "text/plain": [
       "array([3, 4, 5, 6, 0, 1, 2])"
      ]
     },
     "execution_count": 80,
     "metadata": {},
     "output_type": "execute_result"
    }
   ],
   "source": [
    "df[\"Day of Week\"].unique()"
   ]
  },
  {
   "cell_type": "code",
   "execution_count": 82,
   "id": "a09510bd",
   "metadata": {},
   "outputs": [],
   "source": [
    "df[\"Day of Week\"] = df[\"Day of Week\"].map({\n",
    "    0: \"Mon\", 1: \"Tue\", 2: \"Wed\", 3: \"Thu\",\n",
    "    4: \"Fri\", 5: \"Sat\", 6: \"Sun\"\n",
    "})"
   ]
  },
  {
   "cell_type": "code",
   "execution_count": null,
   "id": "74862a1e",
   "metadata": {},
   "outputs": [],
   "source": [
    "df.head()"
   ]
  },
  {
   "cell_type": "code",
   "execution_count": null,
   "id": "76126ca1",
   "metadata": {},
   "outputs": [],
   "source": [
    "sns.countplot(x=\"Day of Week\", hue=\"title\", data=df)"
   ]
  },
  {
   "cell_type": "code",
   "execution_count": null,
   "id": "6f6f269c",
   "metadata": {},
   "outputs": [],
   "source": [
    "sns.countplot(x=\"Month\", hue=\"title\", data=df)"
   ]
  },
  {
   "cell_type": "code",
   "execution_count": null,
   "id": "a277afc1",
   "metadata": {},
   "outputs": [],
   "source": [
    "sns.countplot(x=\"Year\", hue=\"title\", data=df)"
   ]
  },
  {
   "cell_type": "code",
   "execution_count": null,
   "id": "fd519902",
   "metadata": {},
   "outputs": [],
   "source": [
    "sns.countplot(x=\"Year\", data=df)"
   ]
  },
  {
   "cell_type": "code",
   "execution_count": null,
   "id": "81e28c4f",
   "metadata": {},
   "outputs": [],
   "source": [
    "monthly_call = df.groupby(\"Month\").count().reset_index()\n",
    "monthly_call"
   ]
  },
  {
   "cell_type": "code",
   "execution_count": null,
   "id": "136a882c",
   "metadata": {},
   "outputs": [],
   "source": [
    "plt.plot(monthly_call[\"twp\"])"
   ]
  },
  {
   "cell_type": "code",
   "execution_count": null,
   "id": "5b9f4a09",
   "metadata": {},
   "outputs": [],
   "source": [
    "plt.plot(monthly_call[\"twp\"])"
   ]
  },
  {
   "cell_type": "code",
   "execution_count": null,
   "id": "e7fb1eba",
   "metadata": {},
   "outputs": [],
   "source": [
    "plt.figure()\n",
    "sns.lmplot(x='Month',y ='twp',data=monthly_call)\n",
    "plt.grid()\n",
    "plt.show()"
   ]
  },
  {
   "cell_type": "code",
   "execution_count": null,
   "id": "246a6edf",
   "metadata": {},
   "outputs": [],
   "source": [
    "day_hour_call = df.groupby([\"Day of Week\", \"Hour\"])[\"title\"].count().unstack()\n",
    "day_hour_call"
   ]
  },
  {
   "cell_type": "code",
   "execution_count": null,
   "id": "b4089d62",
   "metadata": {},
   "outputs": [],
   "source": [
    "day_hour_call.plot()"
   ]
  },
  {
   "cell_type": "code",
   "execution_count": null,
   "id": "d97c79c1",
   "metadata": {},
   "outputs": [],
   "source": [
    "plt.figure(figsize=(16, 12))\n",
    "sns.heatmap(day_hour_call, annot=True, fmt=\".0f\", cmap=\"Set2\")\n",
    "plt.show()"
   ]
  },
  {
   "cell_type": "code",
   "execution_count": null,
   "id": "44413933",
   "metadata": {},
   "outputs": [],
   "source": [
    "day_month_call = df.groupby([\"Day of Week\", \"Month\"])[\"title\"].count().unstack()\n",
    "day_month_call"
   ]
  },
  {
   "cell_type": "code",
   "execution_count": null,
   "id": "9a30a07b",
   "metadata": {},
   "outputs": [],
   "source": [
    "day_month_call.plot()"
   ]
  },
  {
   "cell_type": "code",
   "execution_count": null,
   "id": "ab1eef81",
   "metadata": {},
   "outputs": [],
   "source": [
    "plt.figure(figsize=(16, 12))\n",
    "sns.heatmap(day_month_call, annot=True, fmt=\".0f\", cmap=\"Pastel1\")\n",
    "plt.show()"
   ]
  },
  {
   "cell_type": "code",
   "execution_count": null,
   "id": "883dabe7",
   "metadata": {},
   "outputs": [],
   "source": []
  }
 ],
 "metadata": {
  "kernelspec": {
   "display_name": "Python 3 (ipykernel)",
   "language": "python",
   "name": "python3"
  },
  "language_info": {
   "codemirror_mode": {
    "name": "ipython",
    "version": 3
   },
   "file_extension": ".py",
   "mimetype": "text/x-python",
   "name": "python",
   "nbconvert_exporter": "python",
   "pygments_lexer": "ipython3",
   "version": "3.11.2"
  }
 },
 "nbformat": 4,
 "nbformat_minor": 5
}
